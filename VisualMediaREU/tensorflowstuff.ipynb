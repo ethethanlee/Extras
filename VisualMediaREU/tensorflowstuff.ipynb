import os
import numpy as np
import h5py
import matplotlib.pyplot as plt
import tensorflow as tf
from tensorflow import keras
from tensorflow.keras.layers import Flatten
from tensorflow.keras.layers import Dense
from tensorflow.keras.losses import SparseCategoricalCrossentropy
from sklearn.metrics import accuracy_score
from sys import getsizeof
import re
import cv2
from sklearn.model_selection import train_test_split

print(tf.__version__)


input_folder = r'C:\Users\iqbal\Pictures\ICCV_Deep_RL\Astrobotic_Project\input_data'
sub_folder_list = os.listdir(input_folder)
data_images_with_labels = []
data_images = []
data_labels = []
for i in range(len(sub_folder_list)):
    if sub_folder_list[i]=='bowPlaying':
        int_label = 0
    if sub_folder_list[i]=='notPlaying':
        int_label = 1
    if sub_folder_list[i]=='colLegno':
        int_label = 2
    if sub_folder_list[i]=='pizz':
        int_label = 3
    #print(os.path.join(input_folder,sub_folder_list[i]))
    images_list = os.listdir(os.path.join(input_folder,sub_folder_list[i]))
    #print(images_list)
    images_list.sort(key=lambda f: int(re.sub('\D', '', f)))
    #print(images_list)
    for j in range(len(images_list)):
        img_rgb = cv2.imread(os.path.join(input_folder,sub_folder_list[i],images_list[j]))
        img = cv2.cvtColor(img_rgb, cv2.COLOR_BGR2GRAY)
        #data_images_with_labels.append([img,sub_folder_list[i]])
        data_images.append(img)
        
        data_labels.append(int_label)


X_train, X_test, y_train, y_test = train_test_split(data_images, data_labels, test_size=0.33, random_state=42)
train_images = np.asarray(X_train, dtype=None, order=None)
test_images = np.asarray(X_test, dtype=None, order=None)
train_labels = np.asarray(y_train, dtype=None, order=None)
test_labels = np.asarray(y_test, dtype=None, order=None)

  
"""# Helper Functions"""

def get_file_size(file_path):
    size = os.path.getsize(file_path)
    return size

def convert_bytes(size, unit=None):
    if unit == "KB":
        return print('File size: ' + str(round(size / 1024, 3)) + ' Kilobytes')
    elif unit == "MB":
        return print('File size: ' + str(round(size / (1024 * 1024), 3)) + ' Megabytes')
    else:
        return print('File size: ' + str(size) + ' bytes')

"""## Import the Fashion MNIST dataset

[Fashion MNIST](https://github.com/zalandoresearch/fashion-mnist) dataset which contains 70,000 grayscale images in 10 categories. The images show individual articles of clothing at low resolution (28 by 28 pixels), as seen here:

<table>
  <tr><td>
    <img src="https://tensorflow.org/images/fashion-mnist-sprite.png"
         alt="Fashion MNIST sprite"  width="600">
  </td></tr>
  <tr><td align="center">
    <b>Figure 1.</b> <a href="https://github.com/zalandoresearch/fashion-mnist">Fashion-MNIST samples</a> (by Zalando, MIT License).<br/>&nbsp;
  </td></tr>
</table>
"""

#fashion_mnist = keras.datasets.fashion_mnist
#(train_images, train_labels), (test_images, test_labels) = fashion_mnist.load_data()

print(train_images.shape)
print(train_labels[3])

class_names = ['bowPlaying', 'notPlaying', 'colLegno', 'pizz']

"""## Explore the data"""

train_images.shape

len(train_labels)

np.unique(train_labels)

"""# Test Dataset"""

test_images.shape

len(test_labels)

"""## Preprocessing"""

train_img = train_images[2]
plt.figure()
plt.imshow(train_images[2], cmap="gray")
plt.colorbar()
plt.grid(False)
plt.show()
#
train_images = train_images / 255.0
test_images = test_images / 255.0



"""## Build & Compile the model

"""

model = keras.Sequential([
    Flatten(input_shape=(240, 320)),
    Dense(128, activation='relu'),
    Dense(10)
])

model.summary()

model.compile(optimizer='adam',
              loss= SparseCategoricalCrossentropy(from_logits=True),
              metrics=['accuracy'])

model.fit(train_images, train_labels, epochs=10)

KERAS_MODEL_NAME = "tf_model_fashion_mnist.h5"

model.save(KERAS_MODEL_NAME)

convert_bytes(get_file_size(KERAS_MODEL_NAME), "MB")

keras_model_size = get_file_size(KERAS_MODEL_NAME)

test_loss, test_acc = model.evaluate(test_images,  test_labels, verbose=2)
print('\nTest accuracy is {}%'.format(round(100*test_acc, 2)))

"""# TF Lite Model"""

TF_LITE_MODEL_FILE_NAME = "tf_lite_model.tflite"

tf_lite_converter = tf.lite.TFLiteConverter.from_keras_model(model)
tflite_model = tf_lite_converter.convert()

tflite_model_name = TF_LITE_MODEL_FILE_NAME
open(tflite_model_name, "wb").write(tflite_model)

convert_bytes(get_file_size(TF_LITE_MODEL_FILE_NAME), "KB")

tflite_file_size = get_file_size(TF_LITE_MODEL_FILE_NAME)

"""# Check Input Tensor Shape"""

interpreter = tf.lite.Interpreter(model_path = TF_LITE_MODEL_FILE_NAME)
input_details = interpreter.get_input_details()
output_details = interpreter.get_output_details()
print("Input Shape:", input_details[0]['shape'])
print("Input Type:", input_details[0]['dtype'])
print("Output Shape:", output_details[0]['shape'])
print("Output Type:", output_details[0]['dtype'])

"""# Resize Tensor Shape"""

interpreter.resize_tensor_input(input_details[0]['index'], (10000, 28, 28))
interpreter.resize_tensor_input(output_details[0]['index'], (10000, 10))
interpreter.allocate_tensors()
input_details = interpreter.get_input_details()
output_details = interpreter.get_output_details()
print("Input Shape:", input_details[0]['shape'])
print("Input Type:", input_details[0]['dtype'])
print("Output Shape:", output_details[0]['shape'])
print("Output Type:", output_details[0]['dtype'])

test_images.dtype

test_imgs_numpy = np.array(test_images, dtype=np.float32)

test_imgs_numpy.dtype

interpreter.set_tensor(input_details[0]['index'], test_imgs_numpy)
interpreter.invoke()
tflite_model_predictions = interpreter.get_tensor(output_details[0]['index'])
print("Prediction results shape:", tflite_model_predictions.shape)
prediction_classes = np.argmax(tflite_model_predictions, axis=1)

acc = accuracy_score(prediction_classes, test_labels)

print('Test accuracy TFLITE model is {}%'.format(round(100*acc, 2)))

tflite_file_size/keras_model_size

"""# TF Lite Model Float 16"""

TF_LITE_MODEL_FLOAT_16_FILE_NAME = "tf_lite_float_16_model.tflite"

tf_lite_converter = tf.lite.TFLiteConverter.from_keras_model(model)
tf_lite_converter.optimizations = [tf.lite.Optimize.DEFAULT]
tf_lite_converter.target_spec.supported_types = [tf.float16]
tflite_model = tf_lite_converter.convert()

tflite_model_name = TF_LITE_MODEL_FLOAT_16_FILE_NAME
open(tflite_model_name, "wb").write(tflite_model)

convert_bytes(get_file_size(TF_LITE_MODEL_FLOAT_16_FILE_NAME), "KB")

tflite_float_16_file_size = get_file_size(TF_LITE_MODEL_FLOAT_16_FILE_NAME)

tflite_float_16_file_size/keras_model_size

tflite_float_16_file_size/tflite_file_size

"""# TF Lite Size Quantized"""

TF_LITE_SIZE_QUANT_MODEL_FILE_NAME = "tf_lite_quant_model.tflite"

tf_lite_converter = tf.lite.TFLiteConverter.from_keras_model(model)
tf_lite_converter.optimizations = [tf.lite.Optimize.OPTIMIZE_FOR_SIZE]
tflite_model = tf_lite_converter.convert()

tflite_model_name = TF_LITE_SIZE_QUANT_MODEL_FILE_NAME
open(tflite_model_name, "wb").write(tflite_model)

convert_bytes(get_file_size(TF_LITE_SIZE_QUANT_MODEL_FILE_NAME), "KB")

tflite_float_quant_file_size = get_file_size(TF_LITE_SIZE_QUANT_MODEL_FILE_NAME)

tflite_float_quant_file_size/keras_model_size

tflite_float_quant_file_size/ tflite_float_16_file_size

"""# Accuracy of the Quantized Model

# Check Input Tensor Shape
"""

interpreter = tf.lite.Interpreter(model_path = TF_LITE_SIZE_QUANT_MODEL_FILE_NAME)
input_details = interpreter.get_input_details()
output_details = interpreter.get_output_details()
print("Input Shape:", input_details[0]['shape'])
print("Input Type:", input_details[0]['dtype'])
print("Output Shape:", output_details[0]['shape'])
print("Output Type:", output_details[0]['dtype'])

"""# Resize Tensor Shape"""

interpreter.resize_tensor_input(input_details[0]['index'], (10000, 28, 28))
interpreter.resize_tensor_input(output_details[0]['index'], (10000, 10))
interpreter.allocate_tensors()
input_details = interpreter.get_input_details()
output_details = interpreter.get_output_details()
print("Input Shape:", input_details[0]['shape'])
print("Input Type:", input_details[0]['dtype'])
print("Output Shape:", output_details[0]['shape'])
print("Output Type:", output_details[0]['dtype'])

test_images.dtype

test_imgs_numpy = np.array(test_images, dtype=np.float32)

interpreter.set_tensor(input_details[0]['index'], test_imgs_numpy)
interpreter.invoke()
tflite_model_predictions = interpreter.get_tensor(output_details[0]['index'])
print("Prediction results shape:", tflite_model_predictions.shape)
prediction_classes = np.argmax(tflite_model_predictions, axis=1)

acc = accuracy_score(prediction_classes, test_labels)

print('Test accuracy TFLITE Quantized model is {}%'.format(round(100*acc, 2)))